{
 "cells": [
  {
   "cell_type": "code",
   "execution_count": 1,
   "id": "9ff58c46",
   "metadata": {},
   "outputs": [],
   "source": [
    "import warnings\n",
    "warnings.simplefilter('ignore')"
   ]
  },
  {
   "cell_type": "code",
   "execution_count": 2,
   "id": "7fdeac5f",
   "metadata": {},
   "outputs": [],
   "source": [
    "#Importing requied Libraries\n",
    "\n",
    "import os\n",
    "import pandas as pd\n",
    "import numpy as np\n",
    "import matplotlib.pyplot as plt\n",
    "import seaborn as sns"
   ]
  },
  {
   "cell_type": "code",
   "execution_count": 3,
   "id": "3de0e93a",
   "metadata": {},
   "outputs": [
    {
     "data": {
      "text/html": [
       "<div>\n",
       "<style scoped>\n",
       "    .dataframe tbody tr th:only-of-type {\n",
       "        vertical-align: middle;\n",
       "    }\n",
       "\n",
       "    .dataframe tbody tr th {\n",
       "        vertical-align: top;\n",
       "    }\n",
       "\n",
       "    .dataframe thead th {\n",
       "        text-align: right;\n",
       "    }\n",
       "</style>\n",
       "<table border=\"1\" class=\"dataframe\">\n",
       "  <thead>\n",
       "    <tr style=\"text-align: right;\">\n",
       "      <th></th>\n",
       "      <th>step</th>\n",
       "      <th>type</th>\n",
       "      <th>amount</th>\n",
       "      <th>nameOrig</th>\n",
       "      <th>oldbalanceOrg</th>\n",
       "      <th>newbalanceOrig</th>\n",
       "      <th>nameDest</th>\n",
       "      <th>oldbalanceDest</th>\n",
       "      <th>newbalanceDest</th>\n",
       "      <th>isFraud</th>\n",
       "      <th>isFlaggedFraud</th>\n",
       "    </tr>\n",
       "  </thead>\n",
       "  <tbody>\n",
       "    <tr>\n",
       "      <th>0</th>\n",
       "      <td>1</td>\n",
       "      <td>PAYMENT</td>\n",
       "      <td>9839.64</td>\n",
       "      <td>C1231006815</td>\n",
       "      <td>170136.0</td>\n",
       "      <td>160296.36</td>\n",
       "      <td>M1979787155</td>\n",
       "      <td>0.0</td>\n",
       "      <td>0.0</td>\n",
       "      <td>0</td>\n",
       "      <td>0</td>\n",
       "    </tr>\n",
       "    <tr>\n",
       "      <th>1</th>\n",
       "      <td>1</td>\n",
       "      <td>PAYMENT</td>\n",
       "      <td>1864.28</td>\n",
       "      <td>C1666544295</td>\n",
       "      <td>21249.0</td>\n",
       "      <td>19384.72</td>\n",
       "      <td>M2044282225</td>\n",
       "      <td>0.0</td>\n",
       "      <td>0.0</td>\n",
       "      <td>0</td>\n",
       "      <td>0</td>\n",
       "    </tr>\n",
       "    <tr>\n",
       "      <th>2</th>\n",
       "      <td>1</td>\n",
       "      <td>TRANSFER</td>\n",
       "      <td>181.00</td>\n",
       "      <td>C1305486145</td>\n",
       "      <td>181.0</td>\n",
       "      <td>0.00</td>\n",
       "      <td>C553264065</td>\n",
       "      <td>0.0</td>\n",
       "      <td>0.0</td>\n",
       "      <td>1</td>\n",
       "      <td>0</td>\n",
       "    </tr>\n",
       "    <tr>\n",
       "      <th>3</th>\n",
       "      <td>1</td>\n",
       "      <td>CASH_OUT</td>\n",
       "      <td>181.00</td>\n",
       "      <td>C840083671</td>\n",
       "      <td>181.0</td>\n",
       "      <td>0.00</td>\n",
       "      <td>C38997010</td>\n",
       "      <td>21182.0</td>\n",
       "      <td>0.0</td>\n",
       "      <td>1</td>\n",
       "      <td>0</td>\n",
       "    </tr>\n",
       "    <tr>\n",
       "      <th>4</th>\n",
       "      <td>1</td>\n",
       "      <td>PAYMENT</td>\n",
       "      <td>11668.14</td>\n",
       "      <td>C2048537720</td>\n",
       "      <td>41554.0</td>\n",
       "      <td>29885.86</td>\n",
       "      <td>M1230701703</td>\n",
       "      <td>0.0</td>\n",
       "      <td>0.0</td>\n",
       "      <td>0</td>\n",
       "      <td>0</td>\n",
       "    </tr>\n",
       "  </tbody>\n",
       "</table>\n",
       "</div>"
      ],
      "text/plain": [
       "   step      type    amount     nameOrig  oldbalanceOrg  newbalanceOrig  \\\n",
       "0     1   PAYMENT   9839.64  C1231006815       170136.0       160296.36   \n",
       "1     1   PAYMENT   1864.28  C1666544295        21249.0        19384.72   \n",
       "2     1  TRANSFER    181.00  C1305486145          181.0            0.00   \n",
       "3     1  CASH_OUT    181.00   C840083671          181.0            0.00   \n",
       "4     1   PAYMENT  11668.14  C2048537720        41554.0        29885.86   \n",
       "\n",
       "      nameDest  oldbalanceDest  newbalanceDest  isFraud  isFlaggedFraud  \n",
       "0  M1979787155             0.0             0.0        0               0  \n",
       "1  M2044282225             0.0             0.0        0               0  \n",
       "2   C553264065             0.0             0.0        1               0  \n",
       "3    C38997010         21182.0             0.0        1               0  \n",
       "4  M1230701703             0.0             0.0        0               0  "
      ]
     },
     "execution_count": 3,
     "metadata": {},
     "output_type": "execute_result"
    }
   ],
   "source": [
    "#Loading Dataset\n",
    "\n",
    "data = pd.read_csv(\"C:\\Sharath\\TASK\\Fraud.csv\")\n",
    "data.head()"
   ]
  },
  {
   "cell_type": "markdown",
   "id": "67739b44",
   "metadata": {},
   "source": [
    "# EDA"
   ]
  },
  {
   "cell_type": "code",
   "execution_count": 4,
   "id": "5a7f2f5f",
   "metadata": {},
   "outputs": [
    {
     "data": {
      "text/plain": [
       "(6362620, 11)"
      ]
     },
     "execution_count": 4,
     "metadata": {},
     "output_type": "execute_result"
    }
   ],
   "source": [
    "# shape of the data\n",
    "data.shape"
   ]
  },
  {
   "cell_type": "code",
   "execution_count": 5,
   "id": "50d9023c",
   "metadata": {},
   "outputs": [
    {
     "name": "stdout",
     "output_type": "stream",
     "text": [
      "<class 'pandas.core.frame.DataFrame'>\n",
      "RangeIndex: 6362620 entries, 0 to 6362619\n",
      "Data columns (total 11 columns):\n",
      " #   Column          Dtype  \n",
      "---  ------          -----  \n",
      " 0   step            int64  \n",
      " 1   type            object \n",
      " 2   amount          float64\n",
      " 3   nameOrig        object \n",
      " 4   oldbalanceOrg   float64\n",
      " 5   newbalanceOrig  float64\n",
      " 6   nameDest        object \n",
      " 7   oldbalanceDest  float64\n",
      " 8   newbalanceDest  float64\n",
      " 9   isFraud         int64  \n",
      " 10  isFlaggedFraud  int64  \n",
      "dtypes: float64(5), int64(3), object(3)\n",
      "memory usage: 534.0+ MB\n"
     ]
    }
   ],
   "source": [
    "# Checking the data types\n",
    "data.info()"
   ]
  },
  {
   "cell_type": "code",
   "execution_count": 6,
   "id": "b4f457f3",
   "metadata": {},
   "outputs": [
    {
     "data": {
      "text/html": [
       "<div>\n",
       "<style scoped>\n",
       "    .dataframe tbody tr th:only-of-type {\n",
       "        vertical-align: middle;\n",
       "    }\n",
       "\n",
       "    .dataframe tbody tr th {\n",
       "        vertical-align: top;\n",
       "    }\n",
       "\n",
       "    .dataframe thead th {\n",
       "        text-align: right;\n",
       "    }\n",
       "</style>\n",
       "<table border=\"1\" class=\"dataframe\">\n",
       "  <thead>\n",
       "    <tr style=\"text-align: right;\">\n",
       "      <th></th>\n",
       "      <th>step</th>\n",
       "      <th>amount</th>\n",
       "      <th>oldbalanceOrg</th>\n",
       "      <th>newbalanceOrig</th>\n",
       "      <th>oldbalanceDest</th>\n",
       "      <th>newbalanceDest</th>\n",
       "      <th>isFraud</th>\n",
       "      <th>isFlaggedFraud</th>\n",
       "    </tr>\n",
       "  </thead>\n",
       "  <tbody>\n",
       "    <tr>\n",
       "      <th>count</th>\n",
       "      <td>6.362620e+06</td>\n",
       "      <td>6.362620e+06</td>\n",
       "      <td>6.362620e+06</td>\n",
       "      <td>6.362620e+06</td>\n",
       "      <td>6.362620e+06</td>\n",
       "      <td>6.362620e+06</td>\n",
       "      <td>6.362620e+06</td>\n",
       "      <td>6.362620e+06</td>\n",
       "    </tr>\n",
       "    <tr>\n",
       "      <th>mean</th>\n",
       "      <td>2.433972e+02</td>\n",
       "      <td>1.798619e+05</td>\n",
       "      <td>8.338831e+05</td>\n",
       "      <td>8.551137e+05</td>\n",
       "      <td>1.100702e+06</td>\n",
       "      <td>1.224996e+06</td>\n",
       "      <td>1.290820e-03</td>\n",
       "      <td>2.514687e-06</td>\n",
       "    </tr>\n",
       "    <tr>\n",
       "      <th>std</th>\n",
       "      <td>1.423320e+02</td>\n",
       "      <td>6.038582e+05</td>\n",
       "      <td>2.888243e+06</td>\n",
       "      <td>2.924049e+06</td>\n",
       "      <td>3.399180e+06</td>\n",
       "      <td>3.674129e+06</td>\n",
       "      <td>3.590480e-02</td>\n",
       "      <td>1.585775e-03</td>\n",
       "    </tr>\n",
       "    <tr>\n",
       "      <th>min</th>\n",
       "      <td>1.000000e+00</td>\n",
       "      <td>0.000000e+00</td>\n",
       "      <td>0.000000e+00</td>\n",
       "      <td>0.000000e+00</td>\n",
       "      <td>0.000000e+00</td>\n",
       "      <td>0.000000e+00</td>\n",
       "      <td>0.000000e+00</td>\n",
       "      <td>0.000000e+00</td>\n",
       "    </tr>\n",
       "    <tr>\n",
       "      <th>25%</th>\n",
       "      <td>1.560000e+02</td>\n",
       "      <td>1.338957e+04</td>\n",
       "      <td>0.000000e+00</td>\n",
       "      <td>0.000000e+00</td>\n",
       "      <td>0.000000e+00</td>\n",
       "      <td>0.000000e+00</td>\n",
       "      <td>0.000000e+00</td>\n",
       "      <td>0.000000e+00</td>\n",
       "    </tr>\n",
       "    <tr>\n",
       "      <th>50%</th>\n",
       "      <td>2.390000e+02</td>\n",
       "      <td>7.487194e+04</td>\n",
       "      <td>1.420800e+04</td>\n",
       "      <td>0.000000e+00</td>\n",
       "      <td>1.327057e+05</td>\n",
       "      <td>2.146614e+05</td>\n",
       "      <td>0.000000e+00</td>\n",
       "      <td>0.000000e+00</td>\n",
       "    </tr>\n",
       "    <tr>\n",
       "      <th>75%</th>\n",
       "      <td>3.350000e+02</td>\n",
       "      <td>2.087215e+05</td>\n",
       "      <td>1.073152e+05</td>\n",
       "      <td>1.442584e+05</td>\n",
       "      <td>9.430367e+05</td>\n",
       "      <td>1.111909e+06</td>\n",
       "      <td>0.000000e+00</td>\n",
       "      <td>0.000000e+00</td>\n",
       "    </tr>\n",
       "    <tr>\n",
       "      <th>max</th>\n",
       "      <td>7.430000e+02</td>\n",
       "      <td>9.244552e+07</td>\n",
       "      <td>5.958504e+07</td>\n",
       "      <td>4.958504e+07</td>\n",
       "      <td>3.560159e+08</td>\n",
       "      <td>3.561793e+08</td>\n",
       "      <td>1.000000e+00</td>\n",
       "      <td>1.000000e+00</td>\n",
       "    </tr>\n",
       "  </tbody>\n",
       "</table>\n",
       "</div>"
      ],
      "text/plain": [
       "               step        amount  oldbalanceOrg  newbalanceOrig  \\\n",
       "count  6.362620e+06  6.362620e+06   6.362620e+06    6.362620e+06   \n",
       "mean   2.433972e+02  1.798619e+05   8.338831e+05    8.551137e+05   \n",
       "std    1.423320e+02  6.038582e+05   2.888243e+06    2.924049e+06   \n",
       "min    1.000000e+00  0.000000e+00   0.000000e+00    0.000000e+00   \n",
       "25%    1.560000e+02  1.338957e+04   0.000000e+00    0.000000e+00   \n",
       "50%    2.390000e+02  7.487194e+04   1.420800e+04    0.000000e+00   \n",
       "75%    3.350000e+02  2.087215e+05   1.073152e+05    1.442584e+05   \n",
       "max    7.430000e+02  9.244552e+07   5.958504e+07    4.958504e+07   \n",
       "\n",
       "       oldbalanceDest  newbalanceDest       isFraud  isFlaggedFraud  \n",
       "count    6.362620e+06    6.362620e+06  6.362620e+06    6.362620e+06  \n",
       "mean     1.100702e+06    1.224996e+06  1.290820e-03    2.514687e-06  \n",
       "std      3.399180e+06    3.674129e+06  3.590480e-02    1.585775e-03  \n",
       "min      0.000000e+00    0.000000e+00  0.000000e+00    0.000000e+00  \n",
       "25%      0.000000e+00    0.000000e+00  0.000000e+00    0.000000e+00  \n",
       "50%      1.327057e+05    2.146614e+05  0.000000e+00    0.000000e+00  \n",
       "75%      9.430367e+05    1.111909e+06  0.000000e+00    0.000000e+00  \n",
       "max      3.560159e+08    3.561793e+08  1.000000e+00    1.000000e+00  "
      ]
     },
     "execution_count": 6,
     "metadata": {},
     "output_type": "execute_result"
    }
   ],
   "source": [
    "# Describe the data\n",
    "data.describe()"
   ]
  },
  {
   "cell_type": "markdown",
   "id": "ff761f27",
   "metadata": {},
   "source": [
    "**Data Analysis :** \n",
    "\n",
    "We can do analysis only on numerical features but in the above dataset we have categorical features.  \n",
    "\n",
    "There are 2 ways to handle the categorical data\n",
    "                    \n",
    "1 Convert into dumy variables \n",
    "                    \n",
    "2 By using Labelencoder, We can convert categorical data into numerical\n",
    "\n",
    "Note : In the above the dataset, Features which is in object datatype doesnt make any weightage on model so we are droping the object feature\n",
    "\n",
    "Type Feature : Type feature is also having categorical data but type feature may have weightage on model so converting into numerical by using Labelecoder."
   ]
  },
  {
   "cell_type": "markdown",
   "id": "5bd86cab",
   "metadata": {},
   "source": [
    "**Scaling :** : \n",
    "\n",
    "If the data is in unstructured, Scale the data before building the model"
   ]
  },
  {
   "cell_type": "code",
   "execution_count": 7,
   "id": "44459f22",
   "metadata": {},
   "outputs": [
    {
     "data": {
      "text/html": [
       "<div>\n",
       "<style scoped>\n",
       "    .dataframe tbody tr th:only-of-type {\n",
       "        vertical-align: middle;\n",
       "    }\n",
       "\n",
       "    .dataframe tbody tr th {\n",
       "        vertical-align: top;\n",
       "    }\n",
       "\n",
       "    .dataframe thead th {\n",
       "        text-align: right;\n",
       "    }\n",
       "</style>\n",
       "<table border=\"1\" class=\"dataframe\">\n",
       "  <thead>\n",
       "    <tr style=\"text-align: right;\">\n",
       "      <th></th>\n",
       "      <th>step</th>\n",
       "      <th>type</th>\n",
       "      <th>amount</th>\n",
       "      <th>oldbalanceOrg</th>\n",
       "      <th>newbalanceOrig</th>\n",
       "      <th>oldbalanceDest</th>\n",
       "      <th>newbalanceDest</th>\n",
       "      <th>isFraud</th>\n",
       "      <th>isFlaggedFraud</th>\n",
       "    </tr>\n",
       "  </thead>\n",
       "  <tbody>\n",
       "    <tr>\n",
       "      <th>0</th>\n",
       "      <td>1</td>\n",
       "      <td>PAYMENT</td>\n",
       "      <td>9839.64</td>\n",
       "      <td>170136.0</td>\n",
       "      <td>160296.36</td>\n",
       "      <td>0.0</td>\n",
       "      <td>0.0</td>\n",
       "      <td>0</td>\n",
       "      <td>0</td>\n",
       "    </tr>\n",
       "    <tr>\n",
       "      <th>1</th>\n",
       "      <td>1</td>\n",
       "      <td>PAYMENT</td>\n",
       "      <td>1864.28</td>\n",
       "      <td>21249.0</td>\n",
       "      <td>19384.72</td>\n",
       "      <td>0.0</td>\n",
       "      <td>0.0</td>\n",
       "      <td>0</td>\n",
       "      <td>0</td>\n",
       "    </tr>\n",
       "    <tr>\n",
       "      <th>2</th>\n",
       "      <td>1</td>\n",
       "      <td>TRANSFER</td>\n",
       "      <td>181.00</td>\n",
       "      <td>181.0</td>\n",
       "      <td>0.00</td>\n",
       "      <td>0.0</td>\n",
       "      <td>0.0</td>\n",
       "      <td>1</td>\n",
       "      <td>0</td>\n",
       "    </tr>\n",
       "    <tr>\n",
       "      <th>3</th>\n",
       "      <td>1</td>\n",
       "      <td>CASH_OUT</td>\n",
       "      <td>181.00</td>\n",
       "      <td>181.0</td>\n",
       "      <td>0.00</td>\n",
       "      <td>21182.0</td>\n",
       "      <td>0.0</td>\n",
       "      <td>1</td>\n",
       "      <td>0</td>\n",
       "    </tr>\n",
       "    <tr>\n",
       "      <th>4</th>\n",
       "      <td>1</td>\n",
       "      <td>PAYMENT</td>\n",
       "      <td>11668.14</td>\n",
       "      <td>41554.0</td>\n",
       "      <td>29885.86</td>\n",
       "      <td>0.0</td>\n",
       "      <td>0.0</td>\n",
       "      <td>0</td>\n",
       "      <td>0</td>\n",
       "    </tr>\n",
       "  </tbody>\n",
       "</table>\n",
       "</div>"
      ],
      "text/plain": [
       "   step      type    amount  oldbalanceOrg  newbalanceOrig  oldbalanceDest  \\\n",
       "0     1   PAYMENT   9839.64       170136.0       160296.36             0.0   \n",
       "1     1   PAYMENT   1864.28        21249.0        19384.72             0.0   \n",
       "2     1  TRANSFER    181.00          181.0            0.00             0.0   \n",
       "3     1  CASH_OUT    181.00          181.0            0.00         21182.0   \n",
       "4     1   PAYMENT  11668.14        41554.0        29885.86             0.0   \n",
       "\n",
       "   newbalanceDest  isFraud  isFlaggedFraud  \n",
       "0             0.0        0               0  \n",
       "1             0.0        0               0  \n",
       "2             0.0        1               0  \n",
       "3             0.0        1               0  \n",
       "4             0.0        0               0  "
      ]
     },
     "execution_count": 7,
     "metadata": {},
     "output_type": "execute_result"
    }
   ],
   "source": [
    "dataset = data.drop(['nameOrig','nameDest'],axis=1)\n",
    "dataset.head()"
   ]
  },
  {
   "cell_type": "code",
   "execution_count": 8,
   "id": "c7073419",
   "metadata": {},
   "outputs": [],
   "source": [
    "# Converting categorical into numerical value by using LabelEncoder\n",
    "\n",
    "from sklearn.preprocessing import LabelEncoder\n",
    "encoder = LabelEncoder()\n",
    "\n",
    "dataset['type'] = encoder.fit_transform(dataset['type']).astype('int')"
   ]
  },
  {
   "cell_type": "markdown",
   "id": "15debbcc",
   "metadata": {},
   "source": [
    "# 1 Data Cleaning : Missing Values, Outliers, Multi Colinearity"
   ]
  },
  {
   "cell_type": "markdown",
   "id": "ed589c1c",
   "metadata": {},
   "source": [
    "**Missing Values :** "
   ]
  },
  {
   "cell_type": "code",
   "execution_count": 9,
   "id": "b9b38061",
   "metadata": {},
   "outputs": [
    {
     "data": {
      "text/plain": [
       "step              0\n",
       "type              0\n",
       "amount            0\n",
       "oldbalanceOrg     0\n",
       "newbalanceOrig    0\n",
       "oldbalanceDest    0\n",
       "newbalanceDest    0\n",
       "isFraud           0\n",
       "isFlaggedFraud    0\n",
       "dtype: int64"
      ]
     },
     "execution_count": 9,
     "metadata": {},
     "output_type": "execute_result"
    }
   ],
   "source": [
    "# Checking for missing values and data types\n",
    "\n",
    "dataset.isna().sum()"
   ]
  },
  {
   "cell_type": "markdown",
   "id": "74f8d5ef",
   "metadata": {},
   "source": [
    "**Outliers :** \n",
    "Outliers can detect by using three methods :\n",
    "**1** Boxplot            **2** Z score          **3** IQR\n",
    "\n",
    "Note : Among all of these IQR is the best method to detect the exact outliers."
   ]
  },
  {
   "cell_type": "code",
   "execution_count": 10,
   "id": "6349bbd9",
   "metadata": {},
   "outputs": [
    {
     "data": {
      "text/plain": [
       "<AxesSubplot:xlabel='newbalanceDest'>"
      ]
     },
     "execution_count": 10,
     "metadata": {},
     "output_type": "execute_result"
    },
    {
     "data": {
      "image/png": "[encoded data removed]",
      "text/plain": [
       "<Figure size 1080x720 with 6 Axes>"
      ]
     },
     "metadata": {
      "needs_background": "light"
     },
     "output_type": "display_data"
    }
   ],
   "source": [
    "# Boxplot \n",
    "\n",
    "fig,axe = plt.subplots(nrows=2,ncols=3,figsize=(15,10))\n",
    "axe = axe.flatten()\n",
    "\n",
    "sns.boxplot(data['amount'],ax=axe[0])\n",
    "sns.boxplot(data['oldbalanceOrg'],ax=axe[1])\n",
    "sns.boxplot(data['newbalanceOrig'],ax=axe[2])\n",
    "sns.boxplot(data['oldbalanceDest'],ax=axe[3])\n",
    "sns.boxplot(data['newbalanceDest'],ax=axe[4])"
   ]
  },
  {
   "cell_type": "markdown",
   "id": "fc83881d",
   "metadata": {},
   "source": [
    "**NOTE :** \n",
    "\n",
    "Removing the outliers is not a good work because the model doesnt learn the patterns of the outliers and it may cause the overfitting for future transactions. So sometimes good to keep the some acceptable outliers in the data and check the impact of it (Accuracy of the model ). If the model is giving worse results then work on outliers and build the model. Here I am not going to handle the outliers. Just building the model with outliers and seeing the results."
   ]
  },
  {
   "cell_type": "markdown",
   "id": "a627df66",
   "metadata": {},
   "source": [
    "**Treating the outliers :**\n",
    "\n",
    "We can handle the outliers by using the 3 methods\n",
    "\n",
    "**1** Removing the outliers  **2** Quantile based flooring and capping  **3** Replacing with mean/median."
   ]
  },
  {
   "cell_type": "code",
   "execution_count": null,
   "id": "30d28604",
   "metadata": {},
   "outputs": [],
   "source": []
  },
  {
   "cell_type": "markdown",
   "id": "b8e7da83",
   "metadata": {},
   "source": [
    "**Multicolinearity** :\n",
    "\n",
    "Multicolinearity is the occurence of high intercorrelation among two or more independent variables."
   ]
  },
  {
   "cell_type": "code",
   "execution_count": 12,
   "id": "707c0904",
   "metadata": {},
   "outputs": [
    {
     "data": {
      "text/plain": [
       "<AxesSubplot:>"
      ]
     },
     "execution_count": 12,
     "metadata": {},
     "output_type": "execute_result"
    },
    {
     "data": {
      "image/png": "[encoded data removed]",
      "text/plain": [
       "<Figure size 720x432 with 2 Axes>"
      ]
     },
     "metadata": {
      "needs_background": "light"
     },
     "output_type": "display_data"
    }
   ],
   "source": [
    "#Multicolinearity \n",
    "\n",
    "correlation = dataset.corr()\n",
    "\n",
    "plt.figure(figsize=(10,6))\n",
    "sns.heatmap(correlation,annot=True)"
   ]
  },
  {
   "cell_type": "markdown",
   "id": "3ea9b229",
   "metadata": {},
   "source": [
    "**newbalaceDest and oldbalanceDest having the high colinearity = 0.98**\n",
    "\n",
    "**newbalaceOrig and oldbalanceOrig having the high colinearity = 1**"
   ]
  },
  {
   "cell_type": "code",
   "execution_count": 13,
   "id": "e8845133",
   "metadata": {},
   "outputs": [
    {
     "name": "stdout",
     "output_type": "stream",
     "text": [
      "          feature         VIF\n",
      "0            step    2.235192\n",
      "1            type    2.075263\n",
      "2          amount    4.015720\n",
      "3   oldbalanceOrg  480.228469\n",
      "4  newbalanceOrig  483.731350\n",
      "5  oldbalanceDest   72.097182\n",
      "6  newbalanceDest   83.582019\n",
      "7  isFlaggedFraud    1.000571\n"
     ]
    }
   ],
   "source": [
    "from statsmodels.stats.outliers_influence import variance_inflation_factor\n",
    "  \n",
    "# the independent variables set\n",
    "x = dataset[['step', 'type', 'amount', 'oldbalanceOrg', 'newbalanceOrig',\n",
    "       'oldbalanceDest', 'newbalanceDest', 'isFlaggedFraud']]\n",
    "\n",
    "vif_data = pd.DataFrame()\n",
    "\n",
    "vif_data[\"feature\"] = x.columns\n",
    "vif_data[\"VIF\"] = [variance_inflation_factor(x.values, i) for i in range(len(x.columns))]\n",
    "\n",
    "print(vif_data)"
   ]
  },
  {
   "cell_type": "markdown",
   "id": "97036ba0",
   "metadata": {},
   "source": [
    "**VIF :** Variation Influence factor is used to check the collinearity between 'input varaibles'. High VIF value(Feature) will remove it from dataset"
   ]
  },
  {
   "cell_type": "markdown",
   "id": "5717f049",
   "metadata": {},
   "source": [
    "# 2 Describing the fraud detection model in eloboration\n",
    "# Model : RandomForest"
   ]
  },
  {
   "cell_type": "markdown",
   "id": "64ca689b",
   "metadata": {},
   "source": [
    "**Random Forest :** It is an ensemble classifier made using many **Decision Tress**.\n",
    "\n",
    "**Ensemble Model :**\n",
    "It is used to combine the results from different models(Same type). The resuls from an ensemble model is usually better than the result from the individual model.\n",
    "\n",
    "**Working principle :**\n",
    "\n",
    "Each tree is given as follow as \n",
    "\n",
    "N = No. of obervations\n",
    "\n",
    "M = No. of attributes or variables\n",
    "\n",
    "RandomForest automatically choose the 'm' from the 'M' i.e (m << M)\n",
    "\n",
    "RanodmForest automatically choose the (2/3) of data from N and build the each decision tree with 'm' and (2/3) data with replacement.\n",
    "\n",
    "Remaining left over data can be used to know the significance of i/p variable.\n",
    "\n",
    "**Steps to build the model :**\n",
    "\n",
    "1 Load the dataset.\n",
    "\n",
    "2 Separate the independent variables and target variable respectively.\n",
    "\n",
    "3 If the independent variables has categorical(object) data convert into dummy variables or by using the LabelEncoder convert into numerical value.\n",
    "\n",
    "3 Perform the **EDA** on the independent feature.\n",
    "\n",
    "4 Split the records for train and test.\n",
    "\n",
    "4 Build the model on training data.\n",
    "\n",
    "5 Predict the values on test data.\n",
    "\n",
    "6 Check the metric evaluations for test data (Accuracy score, Confusion matrix, Classification report).\n",
    "\n",
    "7 You can get to know whether the model is good or bad by seeing the Accuracy score or Confusion matrix or Classification \n",
    "report.\n",
    "\n",
    "\n",
    ".\n",
    "\n",
    "\n",
    "**Decision Tree :** Decision Tree has three nodes **1** Root Node **2** Internal Node **3** Terminate or leaf Node \n",
    "\n",
    "**Working Principle :**\n",
    "\n",
    "Each  **Root Node** can be select by  statistical measure term called **Gain**.\n",
    "\n",
    "**Gain** can be calculated by using the below formula :\n",
    "\n",
    "Gain(A) = Info(D) - Info(D)given attribute"
   ]
  },
  {
   "cell_type": "code",
   "execution_count": null,
   "id": "05fec110",
   "metadata": {},
   "outputs": [],
   "source": []
  },
  {
   "cell_type": "markdown",
   "id": "31261f65",
   "metadata": {},
   "source": [
    "# 3. Model Building : RandomForest"
   ]
  },
  {
   "cell_type": "code",
   "execution_count": 16,
   "id": "92d32d23",
   "metadata": {},
   "outputs": [],
   "source": [
    "# Assigning the feature and target vaiable respectively\n",
    "# x is feature and y is target\n",
    "\n",
    "x = dataset.drop('isFraud',axis=1)\n",
    "y = dataset['isFraud']"
   ]
  },
  {
   "cell_type": "code",
   "execution_count": 17,
   "id": "1d4cbefc",
   "metadata": {},
   "outputs": [],
   "source": [
    "# Splitting records for training and test\n",
    "from sklearn.model_selection import train_test_split\n",
    "xtrain,xtest,ytrain,ytest = train_test_split(x,y,test_size=0.3,random_state=12)"
   ]
  },
  {
   "cell_type": "code",
   "execution_count": 18,
   "id": "3cd3a4c3",
   "metadata": {},
   "outputs": [
    {
     "data": {
      "text/plain": [
       "RandomForestClassifier()"
      ]
     },
     "execution_count": 18,
     "metadata": {},
     "output_type": "execute_result"
    }
   ],
   "source": [
    "# Model building using random forest\n",
    "\n",
    "from sklearn.ensemble import RandomForestClassifier\n",
    "rfc = RandomForestClassifier()\n",
    "rfc.fit(xtrain,ytrain)"
   ]
  },
  {
   "cell_type": "code",
   "execution_count": 19,
   "id": "fd82eaa4",
   "metadata": {},
   "outputs": [],
   "source": [
    "# Prediction\n",
    "ypred = rfc.predict(xtest)"
   ]
  },
  {
   "cell_type": "code",
   "execution_count": 20,
   "id": "5fb8144c",
   "metadata": {},
   "outputs": [
    {
     "name": "stdout",
     "output_type": "stream",
     "text": [
      "Accuracy : 0.9997176215667969\n",
      "\n",
      "Confusion Matrix :\n",
      " [[1906265      31]\n",
      " [    508    1982]]\n",
      "\n",
      "Classification Report :\n",
      "               precision    recall  f1-score   support\n",
      "\n",
      "           0       1.00      1.00      1.00   1906296\n",
      "           1       0.98      0.80      0.88      2490\n",
      "\n",
      "    accuracy                           1.00   1908786\n",
      "   macro avg       0.99      0.90      0.94   1908786\n",
      "weighted avg       1.00      1.00      1.00   1908786\n",
      "\n"
     ]
    }
   ],
   "source": [
    "# Evaluation Metrics\n",
    "from sklearn.metrics import classification_report,accuracy_score,confusion_matrix\n",
    "print(\"Accuracy :\",accuracy_score(ytest,ypred));print()\n",
    "print(\"Confusion Matrix :\\n\",confusion_matrix(ytest,ypred));print()\n",
    "print(\"Classification Report :\\n\",classification_report(ytest,ypred))"
   ]
  },
  {
   "cell_type": "code",
   "execution_count": null,
   "id": "a46d0fc9",
   "metadata": {},
   "outputs": [],
   "source": []
  },
  {
   "cell_type": "markdown",
   "id": "26114532",
   "metadata": {},
   "source": [
    "# 4 Selecting the variable to include in model by using feature_importance in RandomForest"
   ]
  },
  {
   "cell_type": "code",
   "execution_count": 22,
   "id": "279b9a4a",
   "metadata": {},
   "outputs": [
    {
     "data": {
      "text/plain": [
       "<AxesSubplot:xlabel='Features', ylabel='Importance'>"
      ]
     },
     "execution_count": 22,
     "metadata": {},
     "output_type": "execute_result"
    },
    {
     "data": {
      "image/png": "[encoded data removed]",
      "text/plain": [
       "<Figure size 1080x360 with 1 Axes>"
      ]
     },
     "metadata": {
      "needs_background": "light"
     },
     "output_type": "display_data"
    }
   ],
   "source": [
    "#Feature Importance by using the feature_importance\n",
    "\n",
    "importance = rfc.feature_importances_\n",
    "final_df = pd.DataFrame({'Features':x.columns,'Importance':importance})\n",
    "\n",
    "\n",
    "plt.figure(figsize=(15,5))\n",
    "sns.barplot('Features','Importance',data=final_df)"
   ]
  },
  {
   "cell_type": "code",
   "execution_count": null,
   "id": "64358b9f",
   "metadata": {},
   "outputs": [],
   "source": [
    "importance = rfc.feature_importances_ "
   ]
  },
  {
   "cell_type": "markdown",
   "id": "61c71866",
   "metadata": {},
   "source": [
    "# 5 Key factors to predict the fraudulent customer"
   ]
  },
  {
   "cell_type": "markdown",
   "id": "4a8a5687",
   "metadata": {},
   "source": [
    "**The below features are the main key factos to predict the fradulent customer**\n",
    "\n",
    "**1 Unusual Transcation**\n",
    "\n",
    "**2 Mode of Transcation**\n",
    "\n",
    "**2 OldbalanceOrg**\n",
    "\n",
    "**3 newbalanceDest**\n",
    "\n",
    "**4 Amount**"
   ]
  },
  {
   "cell_type": "code",
   "execution_count": null,
   "id": "00f26c47",
   "metadata": {},
   "outputs": [],
   "source": []
  },
  {
   "cell_type": "markdown",
   "id": "bc69f56d",
   "metadata": {},
   "source": [
    "# 6 Does key factor make sense ? yes"
   ]
  },
  {
   "cell_type": "markdown",
   "id": "c4d0e44b",
   "metadata": {},
   "source": [
    "**1 Unsual Transaction :**\n",
    "\n",
    "The unusual has the details of the data how much they tranfered to receiver and has the unusual patterns of the data i.e Amount and mode the they used. \n",
    "\n",
    "**2 Mode of transcation :**\n",
    "\n",
    "By the mode of transaction we can able to get to know the fraud transaction by customer (Unusal mode)\n",
    " \n",
    "**3 OldbalanceOrg and NewbalanceDest :**\n",
    "\n",
    "The old balance will let us know whether the amount is debited from account or not and newbalance in the receiver account will tell us know whether the transaction is really happend between the (sender and receiver) or not.\n",
    "\n",
    "**4 Amount :**\n",
    "\n",
    "Amount will tell us how much has in the account before the tranction."
   ]
  },
  {
   "cell_type": "markdown",
   "id": "31ac382b",
   "metadata": {},
   "source": [
    "# 7 Prevention (Update in its company infrastructure)"
   ]
  },
  {
   "cell_type": "markdown",
   "id": "d94c7c08",
   "metadata": {},
   "source": [
    "**Prevention :**\n",
    "\n",
    "Responsibility for protection forces on banking and componded by mounting **National and International Regulation&Complaince** mandates.\n",
    "\n",
    "**Payment Risk Management System** should run quickly inorder to find the fraud transaction in a real time before the sophisticated thefts or fraud transaction complete. Perform some secs analysis(Example : Our model) on anonymous transaction or unusual transaction as sets typical and non-typical profile identity and addresses the new thefts immediatly"
   ]
  },
  {
   "cell_type": "code",
   "execution_count": null,
   "id": "f7544448",
   "metadata": {},
   "outputs": [],
   "source": []
  },
  {
   "cell_type": "markdown",
   "id": "3721ad6e",
   "metadata": {},
   "source": [
    "# 8 Determining the implementation"
   ]
  },
  {
   "cell_type": "markdown",
   "id": "b32c48c5",
   "metadata": {},
   "source": [
    "If a any fraud transaction happened by **Malwares, Trojans, Account takeover, Indentity theft, credit abuse, Data breach)**. The **Payment Risk Management System** will run quickly on fraud transaction and address the new theft (Our model will helps to find the new thefts. It classifies whether the transaction is fraud or not).\n",
    "\n",
    "A real time cross channel fraud manage solution with flexible approach to integrate with payments platform. A solution with rapid implementation which produces the result faster. One which levarage shared data is use to perform real time analysis as thefts evolved and facilitates easily defining implementations and new rules by **Payment Risk Management System**."
   ]
  },
  {
   "cell_type": "code",
   "execution_count": null,
   "id": "d85f5053",
   "metadata": {},
   "outputs": [],
   "source": []
  }
 ],
 "metadata": {
  "kernelspec": {
   "display_name": "Python 3",
   "language": "python",
   "name": "python3"
  },
  "language_info": {
   "codemirror_mode": {
    "name": "ipython",
    "version": 3
   },
   "file_extension": ".py",
   "mimetype": "text/x-python",
   "name": "python",
   "nbconvert_exporter": "python",
   "pygments_lexer": "ipython3",
   "version": "3.8.8"
  }
 },
 "nbformat": 4,
 "nbformat_minor": 5
}
